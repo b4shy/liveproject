{
 "cells": [
  {
   "cell_type": "code",
   "execution_count": 1,
   "metadata": {},
   "outputs": [],
   "source": [
    "from torch.utils.data import Dataset\n",
    "import torch\n",
    "import nibabel as nib\n",
    "import matplotlib.pyplot as plt\n",
    "import numpy as np\n",
    "import os\n"
   ]
  },
  {
   "cell_type": "code",
   "execution_count": 17,
   "metadata": {},
   "outputs": [],
   "source": [
    "class NiftiDataset(Dataset):\n",
    "    def __init__(self, source_dir, target_dir, transforms):\n",
    "        \"\"\"\n",
    "        create a dataset in PyTorch for reading NIfTI files\n",
    "        Args:\n",
    "            source_dir (str): path to source images\n",
    "            target_dir (str): path to target images\n",
    "            transform (callable) transform to apply to both source and target images\n",
    "        \"\"\"\n",
    "        self.source_dir = source_dir\n",
    "        self.target_dir = target_dir\n",
    "        self.transform = transforms\n",
    "        self.source_images = NiftiDataset.get_data_paths(source_dir)\n",
    "        self.target_images = NiftiDataset.change_path_for_targets(self.source_images)\n",
    "        \n",
    "    def get_data_paths(directory):\n",
    "        paths = []\n",
    "        for i in os.listdir(directory):\n",
    "            paths.append(os.path.join(directory, i))\n",
    "        return paths\n",
    "    \n",
    "    def change_path_for_targets(source_images):\n",
    "        target_images = []\n",
    "        for i in source_images:\n",
    "            mapped_string = i.replace(\"t1\", \"t2\")\n",
    "            mapped_string = mapped_string.replace(\"T1_fcm\",\"T2_reg_fcm\" )\n",
    "            target_images.append(mapped_string)\n",
    "        return target_images\n",
    "            \n",
    "    def __len__(self):\n",
    "        return len(self.source_dir)\n",
    "    \n",
    "    def __getitem__(self, idx):\n",
    "        source_image = nib.load(self.source_images[idx]).get_fdata()\n",
    "        target_image = nib.load(self.target_images[idx]).get_fdata()\n",
    "        source_patch, target_patch = self.transform(source_image, target_image)\n",
    "\n",
    "        return np.transpose(source_patch, (1, 0, 2)), np.transpose(target_patch, (1, 0, 2))\n",
    "    \n",
    "class RandomCrop3D:\n",
    "    def __init__(self, output_size):\n",
    "        self.output_size = output_size\n",
    "        \n",
    "    def generate_patch(self, source, target):\n",
    "        if isinstance(self.output_size, int):\n",
    "            crop_start_x = np.random.randint(0, source.shape[0] - self.output_size + 1)\n",
    "            crop_start_y = np.random.randint(0, source.shape[2] - self.output_size + 1)\n",
    "            crop_end_x = crop_start_x + self.output_size\n",
    "            crop_end_y = crop_start_y + self.output_size\n",
    "\n",
    "            return (source[crop_start_x:crop_end_x, :, crop_start_y: crop_end_y],\n",
    "                   target[crop_start_x:crop_end_x, :, crop_start_y: crop_end_y])\n",
    "        \n",
    "        if isinstance(self.output_size, tuple):\n",
    "            crop_start_x = np.random.randint(0, source.shape[0] - self.output_size[0] + 1)\n",
    "            crop_start_y = np.random.randint(0, source.shape[2] - self.output_size[1] + 1)\n",
    "            crop_end_x = crop_start_x + self.output_size[0]\n",
    "            crop_end_y = crop_start_y + self.output_size[1]\n",
    "\n",
    "            return (source[crop_start_x:crop_end_x, :, crop_start_y: crop_end_y],\n",
    "                   target[crop_start_x:crop_end_x, :, crop_start_y: crop_end_y])\n",
    "\n",
    "        \n",
    "\n",
    "    "
   ]
  },
  {
   "cell_type": "code",
   "execution_count": 21,
   "metadata": {},
   "outputs": [
    {
     "data": {
      "text/plain": [
       "<matplotlib.image.AxesImage at 0x7fbcd616be50>"
      ]
     },
     "execution_count": 21,
     "metadata": {},
     "output_type": "execute_result"
    },
    {
     "data": {
      "image/png": "[encoded data removed]",
      "text/plain": [
       "<Figure size 576x576 with 2 Axes>"
      ]
     },
     "metadata": {
      "needs_background": "light"
     },
     "output_type": "display_data"
    }
   ],
   "source": [
    "rand = RandomCrop3D(65)\n",
    "df = NiftiDataset(\"../small_data/small/t1/\", \"../small_data/small/t2/\", rand.generate_patch)\n",
    "\n",
    "source, target = df[0]\n",
    "\n",
    "fig, axis = plt.subplots(1, 2, figsize=(8, 8))\n",
    "axis[0].imshow(source[35, :, :], cmap=\"gray\")\n",
    "axis[1].imshow(target[35, :, :], cmap=\"gray\")"
   ]
  },
  {
   "cell_type": "code",
   "execution_count": 49,
   "metadata": {},
   "outputs": [],
   "source": [
    "class ConvNet(torch.nn.Module):\n",
    "    def __init__(self):\n",
    "        super().__init__()\n",
    "        \n",
    "        self.layers = torch.nn.Sequential(\n",
    "                        torch.nn.Conv3d(120, 120, 3, 1, 1),\n",
    "                        torch.nn.ReLU(),\n",
    "                        torch.nn.Conv3d(120, 120, 3, 1, 1),\n",
    "                        torch.nn.ReLU(),\n",
    "                        torch.nn.Conv3d(120, 120, 3, 1, 1),\n",
    "\n",
    "                                         )\n",
    "    \n",
    "    def forward(self, X):\n",
    "        return self.layers(X)\n",
    "    \n"
   ]
  },
  {
   "cell_type": "code",
   "execution_count": 50,
   "metadata": {},
   "outputs": [],
   "source": [
    "net = ConvNet()"
   ]
  },
  {
   "cell_type": "code",
   "execution_count": 52,
   "metadata": {},
   "outputs": [
    {
     "name": "stdout",
     "output_type": "stream",
     "text": [
      "torch.Size([1, 120, 65, 65, 1]) torch.Size([1, 120, 65, 65, 1])\n"
     ]
    }
   ],
   "source": [
    "source_tensor = torch.from_numpy(source)\n",
    "source_tensor.unsqueeze_(0)\n",
    "source_tensor.unsqueeze_(-1)\n",
    "\n",
    "output_tensor = net(source_tensor.float())\n",
    "\n",
    "print(source_tensor.shape, output_tensor.shape)\n",
    "assert source_tensor.shape == output_tensor.shape"
   ]
  }
 ],
 "metadata": {
  "kernelspec": {
   "display_name": "Medical",
   "language": "python",
   "name": "medical"
  },
  "language_info": {
   "codemirror_mode": {
    "name": "ipython",
    "version": 3
   },
   "file_extension": ".py",
   "mimetype": "text/x-python",
   "name": "python",
   "nbconvert_exporter": "python",
   "pygments_lexer": "ipython3",
   "version": "3.8.0"
  }
 },
 "nbformat": 4,
 "nbformat_minor": 4
}
